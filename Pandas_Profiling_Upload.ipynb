{
 "cells": [
  {
   "cell_type": "code",
   "execution_count": null,
   "metadata": {
    "collapsed": false
   },
   "outputs": [],
   "source": [
    "import pandas as pd\n",
    "import pandas_profiling"
   ]
  },
  {
   "cell_type": "code",
   "execution_count": null,
   "metadata": {
    "collapsed": false,
    "scrolled": false
   },
   "outputs": [],
   "source": [
    "pip install --user pandas_profiling"
   ]
  },
  {
   "cell_type": "code",
   "execution_count": null,
   "metadata": {
    "collapsed": false
   },
   "outputs": [],
   "source": [
    "import os\n",
    "from ipywidgets import FileUpload\n",
    "from IPython.display import FileLink\n",
    "def on_upload_change(change):\n",
    "    if change.new==0:\n",
    "        print ('cleared')\n",
    "        return\n",
    "    up = change.owner\n",
    "    print (type(up.value))\n",
    "    for filename,data in up.value.items():\n",
    "        print('==========================================================================================')\n",
    "        print(filename)\n",
    "        for k,v in data['metadata'].items():\n",
    "            print(f'    -{k:13}:[{v}]')\n",
    "        print(f'    -content len  :[{len(data[\"content\"])}]')\n",
    "        print('==========================================================================================')\n",
    "    up.value.clear()\n",
    "    up._counter = 0\n",
    "    pandas_profile(filename)\n",
    "    \n",
    "def pandas_profile(filename):\n",
    "    df = pd.read_excel(filename)\n",
    "    profile = df.profile_report(title='Reporte EDA')\n",
    "    profile.to_file(\"EDA.html\")\n",
    "     # Return the link\n",
    "    base_name : str = os.path.basename( \"EDA.html\" )\n",
    "    print(\"Descarga el resultado de EDA: \")\n",
    "    display(FileLink( base_name ) )\n",
    "    \n",
    "upload_btn = FileUpload()\n",
    "upload_btn.observe(on_upload_change, names='_counter')\n",
    "upload_btn"
   ]
  },
  {
   "cell_type": "code",
   "execution_count": null,
   "metadata": {
    "collapsed": true
   },
   "outputs": [],
   "source": []
  }
 ],
 "metadata": {
  "kernelspec": {
   "display_name": "Python 3",
   "language": "python",
   "name": "python3"
  },
  "language_info": {
   "codemirror_mode": {
    "name": "ipython",
    "version": 3
   },
   "file_extension": ".py",
   "mimetype": "text/x-python",
   "name": "python",
   "nbconvert_exporter": "python",
   "pygments_lexer": "ipython3",
   "version": "3.5.9"
  }
 },
 "nbformat": 4,
 "nbformat_minor": 2
}
